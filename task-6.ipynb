{
 "cells": [
  {
   "cell_type": "code",
   "execution_count": 8,
   "id": "f933c7a2-10ed-479f-a06c-5db94cb54acd",
   "metadata": {},
   "outputs": [
    {
     "name": "stdout",
     "output_type": "stream",
     "text": [
      "{'user_id': '1234', 'user_name': 'kaushik', 'user_age': 24, 'age_category': 'teenage'}\n"
     ]
    }
   ],
   "source": [
    " def user_data(user_id , user_name , user_age):\n",
    "     if user_age > 50:\n",
    "         age_category = \"elder\"\n",
    "     elif user_age > 25:\n",
    "         age_category = \" adult\"\n",
    "     else:\n",
    "         age_category = \"teenage\"\n",
    "    \n",
    "     return {\"user_id\" : user_id, \"user_name\" : user_name, \"user_age\" : user_age, \"age_category\" : age_category}\n",
    "\n",
    "print(user_data(\"1234\", \"kaushik\", 24))\n",
    "     "
   ]
  },
  {
   "cell_type": "code",
   "execution_count": null,
   "id": "303345be-404c-4108-97b5-fe333c08c0f6",
   "metadata": {},
   "outputs": [],
   "source": []
  }
 ],
 "metadata": {
  "kernelspec": {
   "display_name": "Python 3 (ipykernel)",
   "language": "python",
   "name": "python3"
  },
  "language_info": {
   "codemirror_mode": {
    "name": "ipython",
    "version": 3
   },
   "file_extension": ".py",
   "mimetype": "text/x-python",
   "name": "python",
   "nbconvert_exporter": "python",
   "pygments_lexer": "ipython3",
   "version": "3.12.4"
  }
 },
 "nbformat": 4,
 "nbformat_minor": 5
}
